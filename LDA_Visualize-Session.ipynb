{
 "cells": [
  {
   "cell_type": "markdown",
   "metadata": {
    "collapsed": true
   },
   "source": [
    "# Topic Modelling\n",
    "## Example of the ’20 Newsgroups’ dataset and use LDA to extract discussed topics"
   ]
  },
  {
   "cell_type": "code",
   "execution_count": 1,
   "metadata": {
    "collapsed": true
   },
   "outputs": [],
   "source": [
    "import sys\n",
    "import re, numpy as np, pandas as pd"
   ]
  },
  {
   "cell_type": "code",
   "execution_count": 2,
   "metadata": {
    "collapsed": true
   },
   "outputs": [],
   "source": [
    "# Gensim\n",
    "import gensim, spacy, logging, warnings\n",
    "import gensim.corpora as corpora\n",
    "from gensim.utils import lemmatize, simple_preprocess\n",
    "#from gensim.models import CoherenceModel\n",
    "import matplotlib.pyplot as plt"
   ]
  },
  {
   "cell_type": "code",
   "execution_count": 3,
   "metadata": {
    "collapsed": true
   },
   "outputs": [],
   "source": [
    "%matplotlib inline\n",
    "warnings.filterwarnings(\"ignore\",category=DeprecationWarning)\n",
    "logging.basicConfig(format='%(asctime)s : %(levelname)s : %(message)s', level=logging.ERROR)"
   ]
  },
  {
   "cell_type": "markdown",
   "metadata": {},
   "source": [
    "### We will use a portion of the 20 Newsgroups \n",
    "#### Let us select these topics from dataset: Christianity, Hockey, MidEast and Motorcycles."
   ]
  },
  {
   "cell_type": "code",
   "execution_count": 15,
   "metadata": {},
   "outputs": [
    {
     "name": "stdout",
     "output_type": "stream",
     "text": [
      "(2361, 3)\n"
     ]
    }
   ],
   "source": [
    "# Import Dataset\n",
    "df = pd.read_json('newsgroups.json')\n",
    "df = df.loc[df.target_names.isin(['soc.religion.christian', \n",
    "                                  'rec.sport.hockey', \n",
    "                                  'talk.politics.mideast', \n",
    "                                  'rec.motorcycles']) , :]\n",
    "print(df.shape)"
   ]
  },
  {
   "cell_type": "code",
   "execution_count": 16,
   "metadata": {},
   "outputs": [
    {
     "data": {
      "text/html": [
       "<div>\n",
       "<style scoped>\n",
       "    .dataframe tbody tr th:only-of-type {\n",
       "        vertical-align: middle;\n",
       "    }\n",
       "\n",
       "    .dataframe tbody tr th {\n",
       "        vertical-align: top;\n",
       "    }\n",
       "\n",
       "    .dataframe thead th {\n",
       "        text-align: right;\n",
       "    }\n",
       "</style>\n",
       "<table border=\"1\" class=\"dataframe\">\n",
       "  <thead>\n",
       "    <tr style=\"text-align: right;\">\n",
       "      <th></th>\n",
       "      <th>content</th>\n",
       "      <th>target</th>\n",
       "      <th>target_names</th>\n",
       "    </tr>\n",
       "  </thead>\n",
       "  <tbody>\n",
       "    <tr>\n",
       "      <th>10</th>\n",
       "      <td>From: irwin@cmptrc.lonestar.org (Irwin Arnstein)\\nSubject: Re: Recommendation on Duc\\nSummary: What's it worth?\\nDistribu...</td>\n",
       "      <td>8</td>\n",
       "      <td>rec.motorcycles</td>\n",
       "    </tr>\n",
       "    <tr>\n",
       "      <th>10007</th>\n",
       "      <td>From: jet@netcom.Netcom.COM (J. Eric Townsend)\\nSubject: Re: Insurance and lotsa points...\\nIn-Reply-To: cjackson@adobe.c...</td>\n",
       "      <td>8</td>\n",
       "      <td>rec.motorcycles</td>\n",
       "    </tr>\n",
       "    <tr>\n",
       "      <th>10008</th>\n",
       "      <td>From: gld@cunixb.cc.columbia.edu (Gary L Dare)\\nSubject: Re: ABC coverage\\nNntp-Posting-Host: cunixb.cc.columbia.edu\\nRep...</td>\n",
       "      <td>10</td>\n",
       "      <td>rec.sport.hockey</td>\n",
       "    </tr>\n",
       "    <tr>\n",
       "      <th>10017</th>\n",
       "      <td>From: nstramer@supergas.dazixco.ingr.com (Naftaly Stramer)\\nSubject: Peace talks ...\\nNntp-Posting-Host: supergas\\nReply-...</td>\n",
       "      <td>17</td>\n",
       "      <td>talk.politics.mideast</td>\n",
       "    </tr>\n",
       "    <tr>\n",
       "      <th>10019</th>\n",
       "      <td>From: mussack@austin.ibm.com (Christopher Mussack)\\nSubject: Re: Questioning Authority\\nLines: 60\\n\\nDespite my trendy, l...</td>\n",
       "      <td>15</td>\n",
       "      <td>soc.religion.christian</td>\n",
       "    </tr>\n",
       "  </tbody>\n",
       "</table>\n",
       "</div>"
      ],
      "text/plain": [
       "                                                                                                                            content  \\\n",
       "10     From: irwin@cmptrc.lonestar.org (Irwin Arnstein)\\nSubject: Re: Recommendation on Duc\\nSummary: What's it worth?\\nDistribu...   \n",
       "10007  From: jet@netcom.Netcom.COM (J. Eric Townsend)\\nSubject: Re: Insurance and lotsa points...\\nIn-Reply-To: cjackson@adobe.c...   \n",
       "10008  From: gld@cunixb.cc.columbia.edu (Gary L Dare)\\nSubject: Re: ABC coverage\\nNntp-Posting-Host: cunixb.cc.columbia.edu\\nRep...   \n",
       "10017  From: nstramer@supergas.dazixco.ingr.com (Naftaly Stramer)\\nSubject: Peace talks ...\\nNntp-Posting-Host: supergas\\nReply-...   \n",
       "10019  From: mussack@austin.ibm.com (Christopher Mussack)\\nSubject: Re: Questioning Authority\\nLines: 60\\n\\nDespite my trendy, l...   \n",
       "\n",
       "       target            target_names  \n",
       "10          8         rec.motorcycles  \n",
       "10007       8         rec.motorcycles  \n",
       "10008      10        rec.sport.hockey  \n",
       "10017      17   talk.politics.mideast  \n",
       "10019      15  soc.religion.christian  "
      ]
     },
     "execution_count": 16,
     "metadata": {},
     "output_type": "execute_result"
    }
   ],
   "source": [
    "pd.set_option('max_colwidth', 125)\n",
    "df.head()"
   ]
  },
  {
   "cell_type": "code",
   "execution_count": 17,
   "metadata": {
    "collapsed": true
   },
   "outputs": [],
   "source": [
    "# NLTK Stop words\n",
    "from nltk.corpus import stopwords\n",
    "stop_words = stopwords.words('english')\n",
    "stop_words.extend(['from', 'subject', 're', 'edu', 'use', 'not', 'would', 'say', \n",
    "                   'could', '_', 'be', 'know', 'good', 'go', 'get', 'do', 'done', \n",
    "                   'try', 'many', 'some', 'nice', 'thank', 'think', 'see', 'rather', \n",
    "                   'easy', 'easily', 'lot', 'lack', 'make', 'want', 'seem', 'run', 'need', \n",
    "                   'even', 'right', 'line', 'even', 'also', 'may', 'take', 'come'])"
   ]
  },
  {
   "cell_type": "markdown",
   "metadata": {},
   "source": [
    "### Tokenize and Clean\n",
    "#### Removing the emails, new line characters, single quotes and finally split the sentence into a list of words"
   ]
  },
  {
   "cell_type": "code",
   "execution_count": 18,
   "metadata": {
    "collapsed": true
   },
   "outputs": [],
   "source": [
    "def sent_to_words(sentences):\n",
    "    for sent in sentences:\n",
    "        sent = re.sub('\\S*@\\S*\\s?', '', sent)  # remove emails\n",
    "        sent = re.sub('\\s+', ' ', sent)  # remove newline chars\n",
    "        sent = re.sub(\"\\'\", \"\", sent)  # remove single quotes\n",
    "        sent = gensim.utils.simple_preprocess(str(sent), deacc=True) \n",
    "        yield(sent)"
   ]
  },
  {
   "cell_type": "code",
   "execution_count": 19,
   "metadata": {},
   "outputs": [
    {
     "name": "stdout",
     "output_type": "stream",
     "text": [
      "[['from', 'irwin', 'arnstein', 'subject', 're', 'recommendation', 'on', 'duc', 'summary', 'whats', 'it', 'worth', 'distribution', 'usa', 'expires', 'sat', 'may', 'gmt', 'organization', 'computrac', 'inc', 'richardson', 'tx', 'keywords', 'ducati', 'gts', 'how', 'much', 'lines', 'have', 'line', 'on', 'ducati', 'gts', 'model', 'with', 'on', 'the', 'clock', 'runs', 'very', 'well', 'paint', 'is', 'the', 'bronze', 'brown', 'orange', 'faded', 'out', 'leaks', 'bit', 'of', 'oil', 'and', 'pops', 'out', 'of', 'st', 'with', 'hard', 'accel', 'the', 'shop', 'will', 'fix', 'trans', 'and', 'oil', 'leak', 'they', 'sold', 'the', 'bike', 'to', 'the', 'and', 'only', 'owner', 'they', 'want', 'and', 'am', 'thinking', 'more', 'like', 'any', 'opinions', 'out', 'there', 'please', 'email', 'me', 'thanks', 'it', 'would', 'be', 'nice', 'stable', 'mate', 'to', 'the', 'beemer', 'then', 'ill', 'get', 'jap', 'bike', 'and', 'call', 'myself', 'axis', 'motors', 'tuba', 'irwin', 'honk', 'therefore', 'am', 'computrac', 'richardson', 'tx', 'dod']]\n"
     ]
    }
   ],
   "source": [
    "# Convert to list\n",
    "data = df.content.values.tolist()\n",
    "data_words = list(sent_to_words(data))\n",
    "print(data_words[:1])"
   ]
  },
  {
   "cell_type": "markdown",
   "metadata": {},
   "source": [
    "### Build the Bigram, Trigram Models and Lemmatize"
   ]
  },
  {
   "cell_type": "code",
   "execution_count": 24,
   "metadata": {
    "collapsed": true
   },
   "outputs": [],
   "source": [
    "# Build the bigram and trigram models\n",
    "# higher threshold fewer phrases.\n",
    "bigram = gensim.models.Phrases(data_words, min_count=5, threshold=100) \n",
    "trigram = gensim.models.Phrases(bigram[data_words], threshold=100)  \n",
    "bigram_mod = gensim.models.phrases.Phraser(bigram)\n",
    "trigram_mod = gensim.models.phrases.Phraser(trigram)"
   ]
  },
  {
   "cell_type": "markdown",
   "metadata": {},
   "source": [
    "### Lemmatize each word to its root form, keeping only nouns, adjectives, verbs and adverbs"
   ]
  },
  {
   "cell_type": "code",
   "execution_count": 25,
   "metadata": {
    "collapsed": true
   },
   "outputs": [],
   "source": [
    "def process_words(texts, stop_words=stop_words, \n",
    "                  allowed_postags=['NOUN', 'ADJ', 'VERB', 'ADV']):\n",
    "    \"\"\"Remove Stopwords, Form Bigrams, Trigrams and Lemmatization\"\"\"\n",
    "    texts = [[word for word in simple_preprocess(str(doc)) \n",
    "              if word not in stop_words] for doc in texts]\n",
    "    texts = [bigram_mod[doc] for doc in texts]\n",
    "    texts = [trigram_mod[bigram_mod[doc]] for doc in texts]\n",
    "    texts_out = []\n",
    "    nlp = spacy.load('en', disable=['parser', 'ner'])\n",
    "    for sent in texts:\n",
    "        doc = nlp(\" \".join(sent)) \n",
    "        texts_out.append([token.lemma_ for token in doc if token.pos_ in allowed_postags])\n",
    "    \n",
    "    # remove stopwords once more after lemmatization\n",
    "    texts_out = [[word for word in simple_preprocess(str(doc)) \n",
    "                  if word not in stop_words] for doc in texts_out]    \n",
    "    return texts_out\n",
    "\n",
    "data_ready = process_words(data_words)"
   ]
  },
  {
   "cell_type": "markdown",
   "metadata": {},
   "source": [
    "### Build the Topic Model"
   ]
  },
  {
   "cell_type": "code",
   "execution_count": 26,
   "metadata": {},
   "outputs": [
    {
     "name": "stdout",
     "output_type": "stream",
     "text": [
      "Dictionary(24628 unique tokens: ['accel', 'arnstein', 'axis', 'beemer', 'bike']...)\n"
     ]
    }
   ],
   "source": [
    "# Create Dictionary\n",
    "id2word = corpora.Dictionary(data_ready)\n",
    "print(id2word)"
   ]
  },
  {
   "cell_type": "code",
   "execution_count": 27,
   "metadata": {},
   "outputs": [
    {
     "name": "stdout",
     "output_type": "stream",
     "text": [
      "[[(0, 1), (1, 1), (2, 1), (3, 1), (4, 2), (5, 1), (6, 1), (7, 1), (8, 1), (9, 1), (10, 2), (11, 1), (12, 1), (13, 2), (14, 1), (15, 1), (16, 1), (17, 1), (18, 1), (19, 2), (20, 1), (21, 1), (22, 1), (23, 1), (24, 2), (25, 1), (26, 1), (27, 2), (28, 1), (29, 1), (30, 1), (31, 1), (32, 2), (33, 1), (34, 1), (35, 1), (36, 1), (37, 1), (38, 1), (39, 1), (40, 2), (41, 1), (42, 1), (43, 1), (44, 1), (45, 1), (46, 1), (47, 1), (48, 1), (49, 1), (50, 1)]]\n"
     ]
    }
   ],
   "source": [
    "# Create Corpus: Term Document Frequency\n",
    "corpus = [id2word.doc2bow(text) for text in data_ready]\n",
    "print(corpus[:1])"
   ]
  },
  {
   "cell_type": "markdown",
   "metadata": {},
   "source": [
    "#### In the above corpus (0, 1) above implies, word id 0 occurs once in the first document. Likewise, word id 2 occurs twice and so on. \n",
    "#### If you want to see what word a given id corresponds to, pass the id as a key to the dictionary."
   ]
  },
  {
   "cell_type": "code",
   "execution_count": 28,
   "metadata": {},
   "outputs": [
    {
     "data": {
      "text/plain": [
       "'accel'"
      ]
     },
     "execution_count": 28,
     "metadata": {},
     "output_type": "execute_result"
    }
   ],
   "source": [
    "id2word[0]"
   ]
  },
  {
   "cell_type": "markdown",
   "metadata": {},
   "source": [
    "#### chunksize is the number of documents to be used in each training chunk. \n",
    "#### update_every determines how often the model parameters should be updated \n",
    "#### passes is the total number of training passes."
   ]
  },
  {
   "cell_type": "code",
   "execution_count": 29,
   "metadata": {
    "collapsed": true
   },
   "outputs": [],
   "source": [
    "# Build LDA model\n",
    "lda_model = gensim.models.ldamodel.LdaModel(corpus=corpus,\n",
    "                                           id2word=id2word,\n",
    "                                           num_topics=4, \n",
    "                                           random_state=100,\n",
    "                                           update_every=1,\n",
    "                                           chunksize=10,\n",
    "                                           passes=10,\n",
    "                                           alpha='symmetric',\n",
    "                                           iterations=100,\n",
    "                                           per_word_topics=True)"
   ]
  },
  {
   "cell_type": "code",
   "execution_count": 30,
   "metadata": {},
   "outputs": [
    {
     "name": "stdout",
     "output_type": "stream",
     "text": [
      "[(0, '0.021*\"team\" + 0.021*\"game\" + 0.015*\"hockey\" + 0.012*\"nhl\" + 0.011*\"player\" + 0.010*\"play\" + 0.010*\"win\" + 0.010*\"hawk\" + 0.010*\"season\" + 0.008*\"year\"'), (1, '0.020*\"armenian\" + 0.011*\"israel\" + 0.009*\"israeli\" + 0.008*\"people\" + 0.008*\"state\" + 0.007*\"kill\" + 0.006*\"article\" + 0.006*\"government\" + 0.005*\"turk\" + 0.005*\"center\"'), (2, '0.010*\"people\" + 0.009*\"god\" + 0.007*\"christian\" + 0.007*\"believe\" + 0.007*\"write\" + 0.007*\"time\" + 0.006*\"question\" + 0.006*\"law\" + 0.005*\"organization\" + 0.005*\"book\"'), (3, '0.012*\"organization\" + 0.012*\"write\" + 0.011*\"article\" + 0.009*\"time\" + 0.009*\"bike\" + 0.008*\"new\" + 0.007*\"well\" + 0.007*\"look\" + 0.004*\"university\" + 0.004*\"bad\"')]\n"
     ]
    }
   ],
   "source": [
    "print(lda_model.print_topics())"
   ]
  },
  {
   "cell_type": "markdown",
   "metadata": {},
   "source": [
    "### What is the Dominant topic and its percentage contribution in each document"
   ]
  },
  {
   "cell_type": "code",
   "execution_count": 31,
   "metadata": {
    "collapsed": true
   },
   "outputs": [],
   "source": [
    "def format_topics_sentences(ldamodel=None, corpus=corpus, texts=data):\n",
    "    # Init output\n",
    "    sent_topics_df = pd.DataFrame()\n",
    "\n",
    "    # Get main topic in each document\n",
    "    for i, row_list in enumerate(ldamodel[corpus]):\n",
    "        row = row_list[0] if ldamodel.per_word_topics else row_list            \n",
    "        # print(row)\n",
    "        row = sorted(row, key=lambda x: (x[1]), reverse=True)\n",
    "        # Get the Dominant topic, Perc Contribution and Keywords for each document\n",
    "        for j, (topic_num, prop_topic) in enumerate(row):\n",
    "            if j == 0:  # => dominant topic\n",
    "                wp = ldamodel.show_topic(topic_num)\n",
    "                topic_keywords = \", \".join([word for word, prop in wp])\n",
    "                sent_topics_df = sent_topics_df.append(\n",
    "                    pd.Series([int(topic_num), round(prop_topic,4), topic_keywords]), \n",
    "                    ignore_index=True)\n",
    "            else:\n",
    "                break\n",
    "    sent_topics_df.columns = ['Dominant_Topic', 'Perc_Contribution', 'Topic_Keywords']\n",
    "\n",
    "    # Add original text to the end of the output\n",
    "    contents = pd.Series(texts)\n",
    "    sent_topics_df = pd.concat([sent_topics_df, contents], axis=1)\n",
    "    return(sent_topics_df)"
   ]
  },
  {
   "cell_type": "code",
   "execution_count": 32,
   "metadata": {},
   "outputs": [
    {
     "data": {
      "text/html": [
       "<div>\n",
       "<style scoped>\n",
       "    .dataframe tbody tr th:only-of-type {\n",
       "        vertical-align: middle;\n",
       "    }\n",
       "\n",
       "    .dataframe tbody tr th {\n",
       "        vertical-align: top;\n",
       "    }\n",
       "\n",
       "    .dataframe thead th {\n",
       "        text-align: right;\n",
       "    }\n",
       "</style>\n",
       "<table border=\"1\" class=\"dataframe\">\n",
       "  <thead>\n",
       "    <tr style=\"text-align: right;\">\n",
       "      <th></th>\n",
       "      <th>Document_No</th>\n",
       "      <th>Dominant_Topic</th>\n",
       "      <th>Topic_Perc_Contrib</th>\n",
       "      <th>Keywords</th>\n",
       "      <th>Text</th>\n",
       "    </tr>\n",
       "  </thead>\n",
       "  <tbody>\n",
       "    <tr>\n",
       "      <th>0</th>\n",
       "      <td>0</td>\n",
       "      <td>3.0</td>\n",
       "      <td>0.8938</td>\n",
       "      <td>organization, write, article, time, bike, new, well, look, university, bad</td>\n",
       "      <td>[irwin, arnstein, recommendation, duc, summary, worth, expire, sit, gmt, organization, computrac, inc, richardson_tx, key...</td>\n",
       "    </tr>\n",
       "    <tr>\n",
       "      <th>1</th>\n",
       "      <td>1</td>\n",
       "      <td>3.0</td>\n",
       "      <td>0.6377</td>\n",
       "      <td>organization, write, article, time, bike, new, well, look, university, bad</td>\n",
       "      <td>[eric, townsend, insurance, lotsa_point, reply, message, mon, organization, netcom_online, communication, service, cjacks...</td>\n",
       "    </tr>\n",
       "    <tr>\n",
       "      <th>2</th>\n",
       "      <td>2</td>\n",
       "      <td>0.0</td>\n",
       "      <td>0.4612</td>\n",
       "      <td>team, game, hockey, nhl, player, play, win, hawk, season, year</td>\n",
       "      <td>[gary_dare, reply, gary_dare, organization, phds, hall, caleb, cohen, write, boy, everyone, rip, espns, hockey, coverage,...</td>\n",
       "    </tr>\n",
       "    <tr>\n",
       "      <th>3</th>\n",
       "      <td>3</td>\n",
       "      <td>1.0</td>\n",
       "      <td>0.6750</td>\n",
       "      <td>armenian, israel, israeli, people, state, kill, article, government, turk, center</td>\n",
       "      <td>[naftaly_stramer, peace_talk, reply, organization, israeline, today, maariv, report, yesterday, follow, egyptian, preside...</td>\n",
       "    </tr>\n",
       "    <tr>\n",
       "      <th>4</th>\n",
       "      <td>4</td>\n",
       "      <td>2.0</td>\n",
       "      <td>0.7443</td>\n",
       "      <td>people, god, christian, believe, write, time, question, law, organization, book</td>\n",
       "      <td>[question, authority, trendy, liberal, feminist, tendency, fact, basically, agree, rebut, write, chris_mussack, write, pe...</td>\n",
       "    </tr>\n",
       "    <tr>\n",
       "      <th>5</th>\n",
       "      <td>5</td>\n",
       "      <td>2.0</td>\n",
       "      <td>0.6329</td>\n",
       "      <td>people, god, christian, believe, write, time, question, law, organization, book</td>\n",
       "      <td>[harrasse, work, prayer, reply, organization, university, chicago, repeat, emphasize, someone_else, feel, horrible, worth...</td>\n",
       "    </tr>\n",
       "    <tr>\n",
       "      <th>6</th>\n",
       "      <td>6</td>\n",
       "      <td>3.0</td>\n",
       "      <td>0.8103</td>\n",
       "      <td>organization, write, article, time, bike, new, well, look, university, bad</td>\n",
       "      <td>[andrew_infante, little_hasty, organization, duke, university, durham, apparently, last, little, hasy, call, place, quote...</td>\n",
       "    </tr>\n",
       "    <tr>\n",
       "      <th>7</th>\n",
       "      <td>7</td>\n",
       "      <td>2.0</td>\n",
       "      <td>0.9511</td>\n",
       "      <td>people, god, christian, believe, write, time, question, law, organization, book</td>\n",
       "      <td>[james_sledd, afterlife, organization, social, science, computing, way, look, die, release, arc, time, able, comprehend, ...</td>\n",
       "    </tr>\n",
       "    <tr>\n",
       "      <th>8</th>\n",
       "      <td>8</td>\n",
       "      <td>0.0</td>\n",
       "      <td>0.5199</td>\n",
       "      <td>team, game, hockey, nhl, player, play, win, hawk, season, year</td>\n",
       "      <td>[canadien, stanley_cup, organization, canada, dean, pereira, write, kind, team, montreal, cup, problem, everyone, steal, ...</td>\n",
       "    </tr>\n",
       "    <tr>\n",
       "      <th>9</th>\n",
       "      <td>9</td>\n",
       "      <td>0.0</td>\n",
       "      <td>0.8704</td>\n",
       "      <td>team, game, hockey, nhl, player, play, win, hawk, season, year</td>\n",
       "      <td>[steve_gallichio, possible, canadian, wc, team, organization, cadkey_inc, point, team, canadian, nhler, playoff, bind, ce...</td>\n",
       "    </tr>\n",
       "  </tbody>\n",
       "</table>\n",
       "</div>"
      ],
      "text/plain": [
       "   Document_No  Dominant_Topic  Topic_Perc_Contrib  \\\n",
       "0            0             3.0              0.8938   \n",
       "1            1             3.0              0.6377   \n",
       "2            2             0.0              0.4612   \n",
       "3            3             1.0              0.6750   \n",
       "4            4             2.0              0.7443   \n",
       "5            5             2.0              0.6329   \n",
       "6            6             3.0              0.8103   \n",
       "7            7             2.0              0.9511   \n",
       "8            8             0.0              0.5199   \n",
       "9            9             0.0              0.8704   \n",
       "\n",
       "                                                                            Keywords  \\\n",
       "0         organization, write, article, time, bike, new, well, look, university, bad   \n",
       "1         organization, write, article, time, bike, new, well, look, university, bad   \n",
       "2                     team, game, hockey, nhl, player, play, win, hawk, season, year   \n",
       "3  armenian, israel, israeli, people, state, kill, article, government, turk, center   \n",
       "4    people, god, christian, believe, write, time, question, law, organization, book   \n",
       "5    people, god, christian, believe, write, time, question, law, organization, book   \n",
       "6         organization, write, article, time, bike, new, well, look, university, bad   \n",
       "7    people, god, christian, believe, write, time, question, law, organization, book   \n",
       "8                     team, game, hockey, nhl, player, play, win, hawk, season, year   \n",
       "9                     team, game, hockey, nhl, player, play, win, hawk, season, year   \n",
       "\n",
       "                                                                                                                           Text  \n",
       "0  [irwin, arnstein, recommendation, duc, summary, worth, expire, sit, gmt, organization, computrac, inc, richardson_tx, key...  \n",
       "1  [eric, townsend, insurance, lotsa_point, reply, message, mon, organization, netcom_online, communication, service, cjacks...  \n",
       "2  [gary_dare, reply, gary_dare, organization, phds, hall, caleb, cohen, write, boy, everyone, rip, espns, hockey, coverage,...  \n",
       "3  [naftaly_stramer, peace_talk, reply, organization, israeline, today, maariv, report, yesterday, follow, egyptian, preside...  \n",
       "4  [question, authority, trendy, liberal, feminist, tendency, fact, basically, agree, rebut, write, chris_mussack, write, pe...  \n",
       "5  [harrasse, work, prayer, reply, organization, university, chicago, repeat, emphasize, someone_else, feel, horrible, worth...  \n",
       "6  [andrew_infante, little_hasty, organization, duke, university, durham, apparently, last, little, hasy, call, place, quote...  \n",
       "7  [james_sledd, afterlife, organization, social, science, computing, way, look, die, release, arc, time, able, comprehend, ...  \n",
       "8  [canadien, stanley_cup, organization, canada, dean, pereira, write, kind, team, montreal, cup, problem, everyone, steal, ...  \n",
       "9  [steve_gallichio, possible, canadian, wc, team, organization, cadkey_inc, point, team, canadian, nhler, playoff, bind, ce...  "
      ]
     },
     "execution_count": 32,
     "metadata": {},
     "output_type": "execute_result"
    }
   ],
   "source": [
    "df_topic_sents_keywords = format_topics_sentences(ldamodel=lda_model, corpus=corpus, \n",
    "                                                  texts=data_ready)\n",
    "\n",
    "# Format\n",
    "df_dominant_topic = df_topic_sents_keywords.reset_index()\n",
    "df_dominant_topic.columns = ['Document_No', 'Dominant_Topic', 'Topic_Perc_Contrib', \n",
    "                             'Keywords', 'Text']\n",
    "df_dominant_topic.head(10)"
   ]
  },
  {
   "cell_type": "markdown",
   "metadata": {},
   "source": [
    "### Visualize"
   ]
  },
  {
   "cell_type": "code",
   "execution_count": 33,
   "metadata": {},
   "outputs": [
    {
     "name": "stderr",
     "output_type": "stream",
     "text": [
      "/Users/gurukrupa/anaconda3/lib/python3.6/site-packages/pyLDAvis/_prepare.py:257: FutureWarning: Sorting because non-concatenation axis is not aligned. A future version\n",
      "of pandas will change to not sort by default.\n",
      "\n",
      "To accept the future behavior, pass 'sort=False'.\n",
      "\n",
      "To retain the current behavior and silence the warning, pass 'sort=True'.\n",
      "\n",
      "  return pd.concat([default_term_info] + list(topic_dfs))\n"
     ]
    },
    {
     "data": {
      "text/html": [
       "\n",
       "<link rel=\"stylesheet\" type=\"text/css\" href=\"https://cdn.rawgit.com/bmabey/pyLDAvis/files/ldavis.v1.0.0.css\">\n",
       "\n",
       "\n",
       "<div id=\"ldavis_el50241124226619609888153671\"></div>\n",
       "<script type=\"text/javascript\">\n",
       "\n",
       "var ldavis_el50241124226619609888153671_data = {\"mdsDat\": {\"x\": [0.17617743604632677, 0.05803282603286684, 0.1118720585342822, -0.346082320613476], \"y\": [-0.10105144616061022, -0.16705310963249903, 0.2626545373420635, 0.005450018451045605], \"topics\": [1, 2, 3, 4], \"cluster\": [1, 1, 1, 1], \"Freq\": [36.498779296875, 26.70182228088379, 23.408344268798828, 13.3910551071167]}, \"tinfo\": {\"Category\": [\"Default\", \"Default\", \"Default\", \"Default\", \"Default\", \"Default\", \"Default\", \"Default\", \"Default\", \"Default\", \"Default\", \"Default\", \"Default\", \"Default\", \"Default\", \"Default\", \"Default\", \"Default\", \"Default\", \"Default\", \"Default\", \"Default\", \"Default\", \"Default\", \"Default\", \"Default\", \"Default\", \"Default\", \"Default\", \"Default\", \"Topic1\", \"Topic1\", \"Topic1\", \"Topic1\", \"Topic1\", \"Topic1\", \"Topic1\", \"Topic1\", \"Topic1\", \"Topic1\", \"Topic1\", \"Topic1\", \"Topic1\", \"Topic1\", \"Topic1\", \"Topic1\", \"Topic1\", \"Topic1\", \"Topic1\", \"Topic1\", \"Topic1\", \"Topic1\", \"Topic1\", \"Topic1\", \"Topic1\", \"Topic1\", \"Topic1\", \"Topic1\", \"Topic1\", \"Topic1\", \"Topic1\", \"Topic1\", \"Topic1\", \"Topic1\", \"Topic1\", \"Topic1\", \"Topic1\", \"Topic1\", \"Topic1\", \"Topic1\", \"Topic1\", \"Topic1\", \"Topic1\", \"Topic1\", \"Topic1\", \"Topic1\", \"Topic1\", \"Topic1\", \"Topic1\", \"Topic1\", \"Topic1\", \"Topic1\", \"Topic2\", \"Topic2\", \"Topic2\", \"Topic2\", \"Topic2\", \"Topic2\", \"Topic2\", \"Topic2\", \"Topic2\", \"Topic2\", \"Topic2\", \"Topic2\", \"Topic2\", \"Topic2\", \"Topic2\", \"Topic2\", \"Topic2\", \"Topic2\", \"Topic2\", \"Topic2\", \"Topic2\", \"Topic2\", \"Topic2\", \"Topic2\", \"Topic2\", \"Topic2\", \"Topic2\", \"Topic2\", \"Topic2\", \"Topic2\", \"Topic2\", \"Topic2\", \"Topic2\", \"Topic2\", \"Topic2\", \"Topic2\", \"Topic2\", \"Topic2\", \"Topic2\", \"Topic2\", \"Topic2\", \"Topic2\", \"Topic2\", \"Topic2\", \"Topic2\", \"Topic2\", \"Topic2\", \"Topic2\", \"Topic2\", \"Topic2\", \"Topic2\", \"Topic2\", \"Topic2\", \"Topic2\", \"Topic2\", \"Topic2\", \"Topic2\", \"Topic2\", \"Topic2\", \"Topic2\", \"Topic3\", \"Topic3\", \"Topic3\", \"Topic3\", \"Topic3\", \"Topic3\", \"Topic3\", \"Topic3\", \"Topic3\", \"Topic3\", \"Topic3\", \"Topic3\", \"Topic3\", \"Topic3\", \"Topic3\", \"Topic3\", \"Topic3\", \"Topic3\", \"Topic3\", \"Topic3\", \"Topic3\", \"Topic3\", \"Topic3\", \"Topic3\", \"Topic3\", \"Topic3\", \"Topic3\", \"Topic3\", \"Topic3\", \"Topic3\", \"Topic3\", \"Topic3\", \"Topic3\", \"Topic3\", \"Topic3\", \"Topic3\", \"Topic3\", \"Topic3\", \"Topic3\", \"Topic3\", \"Topic3\", \"Topic3\", \"Topic3\", \"Topic3\", \"Topic3\", \"Topic3\", \"Topic4\", \"Topic4\", \"Topic4\", \"Topic4\", \"Topic4\", \"Topic4\", \"Topic4\", \"Topic4\", \"Topic4\", \"Topic4\", \"Topic4\", \"Topic4\", \"Topic4\", \"Topic4\", \"Topic4\", \"Topic4\", \"Topic4\", \"Topic4\", \"Topic4\", \"Topic4\", \"Topic4\", \"Topic4\", \"Topic4\", \"Topic4\", \"Topic4\", \"Topic4\", \"Topic4\", \"Topic4\", \"Topic4\", \"Topic4\", \"Topic4\", \"Topic4\", \"Topic4\", \"Topic4\", \"Topic4\", \"Topic4\", \"Topic4\", \"Topic4\", \"Topic4\", \"Topic4\", \"Topic4\", \"Topic4\", \"Topic4\"], \"Freq\": [1493.0, 890.0, 889.0, 609.0, 798.0, 502.0, 978.0, 738.0, 666.0, 461.0, 1777.0, 436.0, 433.0, 423.0, 404.0, 810.0, 795.0, 505.0, 758.0, 739.0, 656.0, 871.0, 611.0, 421.0, 1031.0, 1593.0, 391.0, 273.0, 373.0, 540.0, 978.0352172851562, 810.3128662109375, 795.2305908203125, 656.2161865234375, 610.8965454101562, 540.1250610351562, 472.5665283203125, 429.6126403808594, 440.920166015625, 440.1272277832031, 457.36151123046875, 409.1805419921875, 373.9886474609375, 337.01690673828125, 308.78973388671875, 308.23553466796875, 387.328125, 308.6195373535156, 300.458740234375, 274.7109069824219, 410.06085205078125, 266.0872497558594, 290.7890930175781, 261.8221740722656, 295.3531799316406, 249.86398315429688, 262.40350341796875, 238.31944274902344, 238.12042236328125, 233.91270446777344, 453.3732604980469, 281.4660339355469, 391.8884582519531, 699.898193359375, 349.11260986328125, 485.1847839355469, 475.2322082519531, 1162.0078125, 480.4207763671875, 526.794677734375, 593.9955444335938, 508.0318908691406, 756.62451171875, 576.0712280273438, 408.34674072265625, 763.6549682617188, 442.4687194824219, 612.6495971679688, 456.4006652832031, 458.0270080566406, 465.8002014160156, 414.2486877441406, 737.8890991210938, 297.98822021484375, 295.8673400878906, 245.56285095214844, 265.6034240722656, 231.9789276123047, 238.89315795898438, 239.4716033935547, 236.95933532714844, 184.46910095214844, 176.21270751953125, 187.0748748779297, 234.24813842773438, 171.74244689941406, 292.7574462890625, 184.3292999267578, 196.74314880371094, 153.7667999267578, 174.127197265625, 151.35433959960938, 171.86366271972656, 142.84799194335938, 159.58482360839844, 177.14292907714844, 147.32040405273438, 141.0481414794922, 139.3120574951172, 143.18707275390625, 132.74778747558594, 122.4530029296875, 180.28128051757812, 154.1509552001953, 155.0443572998047, 616.7879638671875, 335.2928771972656, 683.102294921875, 341.49542236328125, 238.6270294189453, 275.01922607421875, 1031.2994384765625, 284.35064697265625, 617.05712890625, 895.0179443359375, 961.7646484375, 789.147216796875, 264.70904541015625, 295.69647216796875, 327.00860595703125, 328.2275695800781, 242.13201904296875, 272.6822204589844, 369.8758850097656, 316.06353759765625, 334.49371337890625, 291.6952819824219, 284.0992126464844, 301.047607421875, 297.1475830078125, 270.873046875, 283.0444030761719, 1493.182861328125, 798.1654663085938, 666.3551635742188, 504.5450134277344, 420.6960144042969, 391.302978515625, 372.9303283691406, 363.52587890625, 354.6617431640625, 279.7879638671875, 277.5386962890625, 272.0207214355469, 260.1776123046875, 241.29051208496094, 266.6966857910156, 217.0026092529297, 283.8699951171875, 212.864990234375, 239.9272003173828, 229.18955993652344, 195.275634765625, 195.790771484375, 190.84359741210938, 181.64889526367188, 171.7230224609375, 174.17196655273438, 320.6719970703125, 166.16860961914062, 154.2306365966797, 161.5960235595703, 177.7326202392578, 175.2901611328125, 179.693359375, 202.4263916015625, 186.99282836914062, 569.9540405273438, 312.98480224609375, 379.7499694824219, 263.1819763183594, 614.8311767578125, 251.45001220703125, 447.7430725097656, 240.61647033691406, 326.3176574707031, 246.54432678222656, 250.0553741455078, 889.0358276367188, 889.4973754882812, 609.103759765625, 501.9446716308594, 461.047119140625, 433.2082824707031, 404.1941833496094, 272.7021179199219, 229.4359588623047, 435.10284423828125, 175.67332458496094, 184.26405334472656, 166.48968505859375, 160.50465393066406, 160.20420837402344, 159.467041015625, 156.65797424316406, 156.19448852539062, 161.41708374023438, 152.33694458007812, 162.4913330078125, 136.43722534179688, 137.35816955566406, 138.08712768554688, 150.24583435058594, 188.8052978515625, 137.68692016601562, 132.36041259765625, 130.7507781982422, 126.20159149169922, 420.06298828125, 138.57525634765625, 144.90423583984375, 141.8888397216797, 237.64105224609375, 264.2430419921875, 139.85037231445312, 347.31036376953125, 154.45082092285156, 155.15994262695312, 153.3374481201172, 159.01747131347656, 156.72952270507812], \"Term\": [\"armenian\", \"team\", \"game\", \"hockey\", \"israel\", \"nhl\", \"god\", \"bike\", \"israeli\", \"player\", \"people\", \"play\", \"win\", \"hawk\", \"season\", \"christian\", \"believe\", \"kill\", \"state\", \"look\", \"law\", \"new\", \"book\", \"government\", \"well\", \"time\", \"turk\", \"league\", \"genocide\", \"talk\", \"god\", \"christian\", \"believe\", \"law\", \"book\", \"talk\", \"answer\", \"bible\", \"word\", \"exist\", \"must\", \"true\", \"speak\", \"truth\", \"faith\", \"jesus\", \"feel\", \"matter\", \"reason\", \"church\", \"paul\", \"marriage\", \"discussion\", \"view\", \"reference\", \"example\", \"prove\", \"different\", \"understand\", \"provide\", \"life\", \"clear\", \"however\", \"question\", \"hell\", \"read\", \"mean\", \"people\", \"claim\", \"ask\", \"way\", \"find\", \"time\", \"give\", \"man\", \"write\", \"point\", \"organization\", \"thing\", \"tell\", \"article\", \"well\", \"bike\", \"ride\", \"big\", \"motorcycle\", \"ill\", \"guy\", \"buy\", \"office\", \"apartment\", \"mile\", \"dod\", \"sell\", \"contact\", \"car\", \"available\", \"owner\", \"luck\", \"sale\", \"mike\", \"cost\", \"info\", \"dog\", \"boy\", \"steve\", \"money\", \"front\", \"hit\", \"kid\", \"room\", \"helmet\", \"pound\", \"seal\", \"knee\", \"look\", \"move\", \"new\", \"bad\", \"school\", \"turn\", \"organization\", \"home\", \"well\", \"article\", \"write\", \"time\", \"probably\", \"back\", \"enough\", \"start\", \"head\", \"keep\", \"university\", \"really\", \"tell\", \"thing\", \"work\", \"first\", \"year\", \"post\", \"way\", \"armenian\", \"israel\", \"israeli\", \"kill\", \"government\", \"turk\", \"genocide\", \"arab\", \"turkish\", \"soldier\", \"serdar_argic\", \"war\", \"attack\", \"murder\", \"russian\", \"turkey\", \"sumgait\", \"civilian\", \"azerbaijani\", \"country\", \"lebanon\", \"border\", \"village\", \"terrorist\", \"palestinian\", \"political\", \"publish\", \"david_davidian\", \"armenia\", \"building\", \"neighbor\", \"march\", \"member\", \"prevent\", \"mutlu\", \"state\", \"page\", \"center\", \"jew\", \"people\", \"child\", \"article\", \"leave\", \"write\", \"call\", \"first\", \"game\", \"team\", \"hockey\", \"nhl\", \"player\", \"win\", \"season\", \"league\", \"score\", \"play\", \"playoff\", \"hockey_league\", \"bos\", \"sj\", \"det\", \"pit\", \"tor\", \"stl\", \"pittsburgh\", \"buf\", \"defenseman\", \"chi\", \"detroit\", \"har\", \"ahl\", \"norris\", \"ice\", \"phi\", \"que\", \"tb\", \"hawk\", \"mon\", \"coach\", \"penalty\", \"goal\", \"final\", \"arena\", \"year\", \"european\", \"canada\", \"division\", \"university\", \"point\"], \"Total\": [1493.0, 890.0, 889.0, 609.0, 798.0, 502.0, 978.0, 738.0, 666.0, 461.0, 1777.0, 436.0, 433.0, 423.0, 404.0, 810.0, 795.0, 505.0, 758.0, 739.0, 656.0, 871.0, 611.0, 421.0, 1031.0, 1593.0, 391.0, 273.0, 373.0, 540.0, 978.6449584960938, 810.9537353515625, 795.8888549804688, 656.8465576171875, 611.5848999023438, 540.8385620117188, 473.2276916503906, 430.2203674316406, 441.548828125, 440.7742919921875, 458.0438537597656, 409.8424072265625, 374.63720703125, 337.64483642578125, 309.3946838378906, 308.8428955078125, 388.113525390625, 309.2749328613281, 301.10235595703125, 275.3224182128906, 410.9747009277344, 266.70074462890625, 291.489990234375, 262.4744873046875, 296.12286376953125, 250.53298950195312, 263.1109619140625, 238.96511840820312, 238.77259826660156, 234.623779296875, 454.83465576171875, 284.8865966796875, 416.121826171875, 809.7000122070312, 371.1452941894531, 560.5947875976562, 551.7098388671875, 1777.244140625, 573.2794189453125, 665.6290283203125, 877.5466918945312, 705.7623901367188, 1593.0308837890625, 967.387451171875, 521.96826171875, 2075.1513671875, 637.386962890625, 1879.646728515625, 748.4937133789062, 949.8336181640625, 1825.4456787109375, 1031.7957763671875, 738.5099487304688, 298.6111145019531, 296.5776062011719, 246.1875, 266.3094177246094, 232.62069702148438, 239.5638885498047, 240.1936798095703, 237.68096923828125, 185.10479736328125, 176.8322296142578, 187.768798828125, 235.12139892578125, 172.39193725585938, 293.893798828125, 185.0577392578125, 197.52110290527344, 154.40567016601562, 174.8589630126953, 152.00587463378906, 172.6354217529297, 143.49008178710938, 160.30455017089844, 177.95639038085938, 147.99754333496094, 141.69940185546875, 139.98257446289062, 143.91030883789062, 133.4231414794922, 123.07843780517578, 181.23184204101562, 155.02085876464844, 156.14515686035156, 739.7789916992188, 377.7794189453125, 871.1039428710938, 413.2146301269531, 271.79412841796875, 327.5327453613281, 1879.646728515625, 355.5270690917969, 1031.7957763671875, 1825.4456787109375, 2075.1513671875, 1593.0308837890625, 331.707763671875, 422.76422119140625, 513.9860229492188, 535.4541625976562, 307.9222717285156, 388.52166748046875, 828.0255126953125, 600.7963256835938, 949.8336181640625, 748.4937133789062, 660.8801879882812, 1035.43603515625, 965.2716064453125, 603.5908813476562, 877.5466918945312, 1493.8192138671875, 798.7962036132812, 666.9852905273438, 505.2144470214844, 421.3291015625, 391.9356384277344, 373.5709228515625, 364.1563415527344, 355.2919616699219, 280.42510986328125, 278.1745910644531, 272.6632995605469, 260.8798522949219, 241.946533203125, 267.4550476074219, 217.63226318359375, 284.7072448730469, 213.49285888671875, 240.63938903808594, 229.92701721191406, 195.90411376953125, 196.43235778808594, 191.4700927734375, 182.28346252441406, 172.35015869140625, 174.81069946289062, 321.8960876464844, 166.81703186035156, 154.8578338623047, 162.2922821044922, 178.51881408691406, 176.1279296875, 180.69290161132812, 205.10939025878906, 188.79669189453125, 758.6178588867188, 360.8697204589844, 484.8956298828125, 341.67620849609375, 1777.244140625, 366.6415710449219, 1825.4456787109375, 484.3343505859375, 2075.1513671875, 737.084228515625, 1035.43603515625, 889.751953125, 890.2186279296875, 609.8217163085938, 502.6610107421875, 461.7591247558594, 433.924560546875, 404.90911865234375, 273.47265625, 230.16893005371094, 436.6122741699219, 176.38116455078125, 185.0210418701172, 167.191650390625, 161.20692443847656, 160.90609741210938, 160.17005920410156, 157.36032104492188, 156.89630126953125, 162.14892578125, 153.03814697265625, 163.2831268310547, 137.13946533203125, 138.06529235839844, 138.79994201660156, 151.02342224121094, 189.7825469970703, 138.4131317138672, 133.06422424316406, 131.45330810546875, 126.90373992919922, 423.2894287109375, 139.36041259765625, 145.79652404785156, 142.74127197265625, 242.84774780273438, 287.7184753417969, 140.99501037597656, 965.2716064453125, 180.0088348388672, 191.08023071289062, 196.15321350097656, 828.0255126953125, 637.386962890625], \"loglift\": [30.0, 29.0, 28.0, 27.0, 26.0, 25.0, 24.0, 23.0, 22.0, 21.0, 20.0, 19.0, 18.0, 17.0, 16.0, 15.0, 14.0, 13.0, 12.0, 11.0, 10.0, 9.0, 8.0, 7.0, 6.0, 5.0, 4.0, 3.0, 2.0, 1.0, 1.0073000192642212, 1.007099986076355, 1.007099986076355, 1.0068999528884888, 1.0068000555038452, 1.006600022315979, 1.006500005722046, 1.006500005722046, 1.006500005722046, 1.0063999891281128, 1.0063999891281128, 1.0062999725341797, 1.0061999559402466, 1.00600004196167, 1.0059000253677368, 1.0059000253677368, 1.0059000253677368, 1.0058000087738037, 1.0058000087738037, 1.0056999921798706, 1.0056999921798706, 1.0055999755859375, 1.0054999589920044, 1.0053999423980713, 1.0053000450134277, 1.0052000284194946, 1.0052000284194946, 1.0052000284194946, 1.0052000284194946, 1.0048999786376953, 1.004699945449829, 0.9958000183105469, 0.9478999972343445, 0.8622000217437744, 0.9466999769210815, 0.8633999824523926, 0.8586999773979187, 0.5830000042915344, 0.8312000036239624, 0.7739999890327454, 0.6176000237464905, 0.6791999936103821, 0.26339998841285706, 0.4894999861717224, 0.7623999714851379, 0.008200000040233135, 0.6428999900817871, -0.11320000141859055, 0.5131999850273132, 0.2784999907016754, -0.3578999936580658, 0.09529999643564224, 1.319599986076355, 1.3184000253677368, 1.3179999589920044, 1.3178999423980713, 1.3178000450134277, 1.3177000284194946, 1.3176000118255615, 1.3173999786376953, 1.3173999786376953, 1.3170000314712524, 1.3169000148773193, 1.3166999816894531, 1.3166999816894531, 1.3166999816894531, 1.31659996509552, 1.316499948501587, 1.316499948501587, 1.3163000345230103, 1.3162000179290771, 1.316100001335144, 1.315999984741211, 1.315999984741211, 1.3158999681472778, 1.3158999681472778, 1.3158999681472778, 1.3157999515533447, 1.315600037574768, 1.3154000043869019, 1.3154000043869019, 1.3152999877929688, 1.3151999711990356, 1.3148000240325928, 1.3134000301361084, 1.1385999917984009, 1.2010999917984009, 1.077299952507019, 1.1297999620437622, 1.1902999877929688, 1.1456999778747559, 0.7202000021934509, 1.097000002861023, 0.8062999844551086, 0.607699990272522, 0.5514000058174133, 0.6179999709129333, 1.0947999954223633, 0.9629999995231628, 0.8682000041007996, 0.8309999704360962, 1.0801000595092773, 0.9664000272750854, 0.5145999789237976, 0.6780999898910522, 0.2768000066280365, 0.3781000077724457, 0.47620001435279846, 0.08510000258684158, 0.14229999482631683, 0.5192000269889832, 0.18889999389648438, 1.45169997215271, 1.451300024986267, 1.4510999917984009, 1.4507999420166016, 1.450600028038025, 1.4505000114440918, 1.4503999948501587, 1.4502999782562256, 1.4502999782562256, 1.4498000144958496, 1.4498000144958496, 1.4496999979019165, 1.4493999481201172, 1.4493999481201172, 1.4492000341415405, 1.4492000341415405, 1.4491000175476074, 1.4491000175476074, 1.4491000175476074, 1.4488999843597412, 1.4488999843597412, 1.448799967765808, 1.448799967765808, 1.4486000537872314, 1.4484000205993652, 1.4484000205993652, 1.4483000040054321, 1.448199987411499, 1.4479999542236328, 1.4478000402450562, 1.447700023651123, 1.4472999572753906, 1.4464999437332153, 1.4388999938964844, 1.4424999952316284, 1.166100025177002, 1.3097000122070312, 1.2077000141143799, 1.191100001335144, 0.3905999958515167, 1.0749000310897827, 0.04670000076293945, 0.7524999976158142, -0.3977999985218048, 0.35690000653266907, 0.031199999153614044, 2.0097999572753906, 2.0097999572753906, 2.009399890899658, 2.009200096130371, 2.009000062942505, 2.0088999271392822, 2.0088000297546387, 2.0078001022338867, 2.0074000358581543, 2.0071001052856445, 2.0065999031066895, 2.006500005722046, 2.0064001083374023, 2.006200075149536, 2.006200075149536, 2.006200075149536, 2.0060999393463135, 2.0060999393463135, 2.0060999393463135, 2.00600004196167, 2.00570011138916, 2.0053999423980713, 2.0053999423980713, 2.0053999423980713, 2.0053999423980713, 2.0053999423980713, 2.0053000450134277, 2.0053000450134277, 2.005199909210205, 2.005000114440918, 2.0028998851776123, 2.0048999786376953, 2.0044000148773193, 2.0046000480651855, 1.9888999462127686, 1.9255000352859497, 2.0023999214172363, 0.9883999824523926, 1.8574999570846558, 1.802299976348877, 1.764299988746643, 0.36059999465942383, 0.607699990272522], \"logprob\": [30.0, 29.0, 28.0, 27.0, 26.0, 25.0, 24.0, 23.0, 22.0, 21.0, 20.0, 19.0, 18.0, 17.0, 16.0, 15.0, 14.0, 13.0, 12.0, 11.0, 10.0, 9.0, 8.0, 7.0, 6.0, 5.0, 4.0, 3.0, 2.0, 1.0, -4.757699966430664, -4.945799827575684, -4.964600086212158, -5.156799793243408, -5.228300094604492, -5.351500034332275, -5.485099792480469, -5.580399990081787, -5.5543999671936035, -5.55620002746582, -5.5177998542785645, -5.6290998458862305, -5.718999862670898, -5.8231000900268555, -5.910600185394287, -5.912399768829346, -5.684000015258789, -5.911099910736084, -5.937900066375732, -6.027500152587891, -5.6269001960754395, -6.0594000816345215, -5.970699787139893, -6.0756001472473145, -5.955100059509277, -6.122300148010254, -6.073400020599365, -6.169600009918213, -6.170499801635742, -6.188300132751465, -5.526500225067139, -6.003200054168701, -5.672299861907959, -5.092299938201904, -5.787899971008301, -5.458700180053711, -5.479400157928467, -4.585299968719482, -5.468599796295166, -5.376399993896484, -5.256400108337402, -5.412700176239014, -5.014400005340576, -5.2870001792907715, -5.631100177764893, -5.005099773406982, -5.550899982452393, -5.225500106811523, -5.519899845123291, -5.516300201416016, -5.499499797821045, -5.616799831390381, -4.726900100708008, -5.633699893951416, -5.6407999992370605, -5.827199935913086, -5.748700141906738, -5.884099960327148, -5.854700088500977, -5.85230016708374, -5.862800121307373, -6.1132001876831055, -6.158999919891357, -6.0991997718811035, -5.874300003051758, -6.184700012207031, -5.651400089263916, -6.113999843597412, -6.048799991607666, -6.295300006866455, -6.170899868011475, -6.311100006103516, -6.184000015258789, -6.368899822235107, -6.2581000328063965, -6.15369987487793, -6.338099956512451, -6.3815999031066895, -6.394000053405762, -6.366600036621094, -6.442299842834473, -6.5229997634887695, -6.136199951171875, -6.292799949645996, -6.2870001792907715, -4.906199932098389, -5.515699863433838, -4.804100036621094, -5.497399806976318, -5.855800151824951, -5.713900089263916, -4.392099857330322, -5.680500030517578, -4.905700206756592, -4.533899784088135, -4.461900234222412, -4.659800052642822, -5.752099990844727, -5.64139986038208, -5.5406999588012695, -5.5370001792907715, -5.84119987487793, -5.722400188446045, -5.417500019073486, -5.57480001449585, -5.518099784851074, -5.65500020980835, -5.681399822235107, -5.6234002113342285, -5.636499881744385, -5.729100227355957, -5.685100078582764, -3.890399932861328, -4.51669979095459, -4.697199821472168, -4.975399971008301, -5.157199859619141, -5.229599952697754, -5.277699947357178, -5.303199768066406, -5.327899932861328, -5.565000057220459, -5.5731000900268555, -5.593200206756592, -5.637700080871582, -5.713099956512451, -5.61299991607666, -5.819200038909912, -5.55049991607666, -5.838399887084961, -5.718699932098389, -5.764500141143799, -5.924699783325195, -5.921999931335449, -5.9475998878479, -5.997000217437744, -6.053199768066406, -6.039000034332275, -5.428599834442139, -6.086100101470947, -6.160600185394287, -6.113999843597412, -6.018799781799316, -6.032599925994873, -6.007800102233887, -5.888700008392334, -5.9679999351501465, -4.853499889373779, -5.452899932861328, -5.2596001625061035, -5.626200199127197, -4.777699947357178, -5.671800136566162, -5.094799995422363, -5.71589994430542, -5.411200046539307, -5.691500186920166, -5.6774001121521, -3.850399971008301, -3.849900007247925, -4.228600025177002, -4.422100067138672, -4.5071001052856445, -4.569300174713135, -4.638700008392334, -5.032199859619141, -5.204899787902832, -4.565000057220459, -5.47189998626709, -5.424200057983398, -5.525599956512451, -5.56220006942749, -5.5640997886657715, -5.568699836730957, -5.58650016784668, -5.5894999504089355, -5.556600093841553, -5.614500045776367, -5.549900054931641, -5.724699974060059, -5.7179999351501465, -5.712699890136719, -5.628300189971924, -5.399799823760986, -5.71560001373291, -5.755000114440918, -5.767300128936768, -5.802700042724609, -4.600200176239014, -5.709099769592285, -5.6645002365112305, -5.685500144958496, -5.1697998046875, -5.063700199127197, -5.699999809265137, -4.790299892425537, -5.6006999015808105, -5.596099853515625, -5.607900142669678, -5.571499824523926, -5.585999965667725]}, \"token.table\": {\"Topic\": [4, 1, 2, 3, 3, 4, 3, 3, 1, 2, 3, 4, 1, 2, 3, 3, 2, 3, 1, 2, 3, 4, 2, 3, 4, 1, 1, 2, 2, 1, 3, 4, 2, 4, 3, 2, 1, 2, 3, 2, 4, 2, 2, 3, 4, 4, 1, 3, 1, 1, 3, 1, 3, 1, 3, 4, 2, 2, 3, 3, 4, 4, 4, 1, 1, 2, 4, 2, 2, 1, 2, 3, 4, 1, 1, 1, 1, 1, 4, 1, 2, 3, 1, 2, 3, 4, 2, 4, 3, 1, 2, 3, 4, 3, 4, 1, 3, 2, 4, 2, 4, 1, 2, 3, 1, 2, 2, 2, 4, 4, 2, 3, 1, 3, 4, 2, 2, 3, 3, 1, 1, 3, 2, 3, 2, 3, 2, 4, 1, 4, 1, 2, 3, 3, 1, 3, 1, 2, 2, 1, 2, 3, 3, 1, 1, 1, 2, 1, 3, 2, 2, 4, 2, 2, 2, 3, 3, 1, 1, 3, 3, 1, 2, 3, 4, 4, 2, 1, 2, 3, 4, 2, 2, 3, 3, 1, 4, 1, 3, 4, 4, 4, 3, 4, 4, 4, 1, 2, 4, 3, 1, 2, 3, 2, 2, 3, 1, 2, 1, 1, 1, 3, 4, 1, 2, 1, 2, 1, 2, 1, 1, 2, 2, 3, 2, 1, 2, 4, 2, 4, 2, 3, 4, 3, 1, 1, 2, 3, 4, 1, 2, 3, 2, 4, 3, 1, 4, 4, 1, 2, 3, 3, 1, 2, 1, 2, 4, 4, 1, 1, 3, 3, 3, 1, 2, 1, 1, 2, 3, 4, 1, 3, 3, 1, 2, 1, 2, 4, 1, 1, 2, 3, 1, 2, 3, 4, 1, 2, 3, 4], \"Freq\": [0.9932234287261963, 0.999518871307373, 0.9971349239349365, 0.9995706677436829, 0.007092449348419905, 0.9929429292678833, 0.9944605231285095, 0.9994515776634216, 0.25528013706207275, 0.4902912378311157, 0.24541951715946198, 0.009312794543802738, 0.7917323112487793, 0.15023383498191833, 0.058591194450855255, 0.9966273903846741, 0.9969587922096252, 0.9973429441452026, 0.0946153849363327, 0.7001538276672363, 0.1726730763912201, 0.03548077121376991, 0.825236976146698, 0.08712179213762283, 0.08712179213762283, 0.9988831877708435, 0.9994877576828003, 0.9980524182319641, 0.9993094801902771, 0.9990436434745789, 0.9977989196777344, 0.9928725361824036, 0.9981001615524292, 0.9932163953781128, 0.9981990456581116, 0.9976462125778198, 0.4124358892440796, 0.2537023425102234, 0.33510416746139526, 0.18316912651062012, 0.8111776113510132, 0.9977265000343323, 0.14023636281490326, 0.7836738228797913, 0.0763050839304924, 0.9916911721229553, 0.31365782022476196, 0.6845923066139221, 0.9988239407539368, 0.9988289475440979, 0.9976914525032043, 0.8372880220413208, 0.16048020124435425, 0.9863573908805847, 0.010530506260693073, 0.9945367574691772, 0.9952305555343628, 0.9933826327323914, 0.995968222618103, 0.9951022267341614, 0.9921417236328125, 0.9943687915802002, 0.9922841191291809, 0.9959612488746643, 0.9983190298080444, 0.2141183316707611, 0.7800025343894958, 0.9952936768531799, 0.9965845346450806, 0.3638231158256531, 0.6362040638923645, 0.13888207077980042, 0.8555135726928711, 0.9978725910186768, 0.9982433319091797, 0.9987243413925171, 0.9971309304237366, 0.07993925362825394, 0.9175636172294617, 0.7197889685630798, 0.208285391330719, 0.07084537297487259, 0.32546675205230713, 0.2906987965106964, 0.2414441704750061, 0.14196917414665222, 0.9950641989707947, 0.9991548657417297, 0.998471736907959, 0.5954180955886841, 0.15195566415786743, 0.21087723970413208, 0.042382191866636276, 0.020589031279087067, 0.9800379276275635, 0.9993409514427185, 0.9992188811302185, 0.9973317384719849, 0.9942367076873779, 0.00708734942600131, 0.9922288656234741, 0.12665534019470215, 0.7859126329421997, 0.08768446743488312, 0.9403325319290161, 0.059275977313518524, 0.9912378191947937, 0.9929807186126709, 0.9986525177955627, 0.9944815039634705, 0.7988139986991882, 0.19970349967479706, 0.9420318007469177, 0.05767541751265526, 0.9970152378082275, 0.9988381266593933, 0.9963192939758301, 0.9990032315254211, 0.9985227584838867, 0.9972708225250244, 0.22828631103038788, 0.7697346210479736, 0.7026635408401489, 0.29599377512931824, 0.9936744570732117, 0.9995755553245544, 0.9926660656929016, 0.006404297426342964, 0.9987111687660217, 0.998271644115448, 0.04129378870129585, 0.4604257345199585, 0.49759015440940857, 0.995384931564331, 0.9959663152694702, 0.0021986011415719986, 0.16626587510108948, 0.8340328931808472, 0.9973617792129517, 0.7816567420959473, 0.028737379238009453, 0.18966670334339142, 0.9935959577560425, 0.997372567653656, 0.9991110563278198, 0.8609598278999329, 0.13775357604026794, 0.005534251686185598, 0.9961653351783752, 0.9950876832008362, 0.9940314888954163, 0.9974138140678406, 0.9932597279548645, 0.9992383718490601, 0.8867608308792114, 0.11117598414421082, 0.9960878491401672, 0.9977210760116577, 0.005296702962368727, 0.9904834628105164, 0.9970937967300415, 0.1963026374578476, 0.7840625643730164, 0.019515465945005417, 0.9986850023269653, 0.9958766102790833, 0.9950303435325623, 0.3261251151561737, 0.5485073328018188, 0.05000939592719078, 0.07554610818624496, 0.9942842721939087, 0.13024090230464935, 0.8673490285873413, 0.997968316078186, 0.9976283311843872, 0.9948068857192993, 0.6538212299346924, 0.34604138135910034, 0.9920021891593933, 0.9926949143409729, 0.9929143786430359, 0.002290361560881138, 0.9963073134422302, 0.99835604429245, 0.9978389739990234, 0.6934562921524048, 0.05961841344833374, 0.24631819128990173, 0.995362401008606, 0.4274418354034424, 0.44897961616516113, 0.12425635010004044, 0.9932029247283936, 0.009750894270837307, 0.9848403334617615, 0.20198501646518707, 0.7988959550857544, 0.9957776069641113, 0.9973413348197937, 0.0031065926887094975, 0.9972162246704102, 0.9965515732765198, 0.8645176887512207, 0.13461776077747345, 0.8651525378227234, 0.13378646969795227, 0.4727059602737427, 0.525968611240387, 0.9963389039039612, 0.996208131313324, 0.997953474521637, 0.996828556060791, 0.9982985854148865, 0.9973726868629456, 0.12141542881727219, 0.8793420195579529, 0.9949214458465576, 0.9934147000312805, 0.9977547526359558, 0.9959056377410889, 0.9993723630905151, 0.998716413974762, 0.9984840750694275, 0.9982991218566895, 0.1438031643629074, 0.6125640869140625, 0.23157911002635956, 0.011205441318452358, 0.00263637350872159, 0.2465009242296219, 0.7513664364814758, 0.9946256875991821, 0.9942873120307922, 0.9975159168243408, 0.9984495043754578, 0.9928785562515259, 0.9986311197280884, 0.48218971490859985, 0.351640522480011, 0.16529211401939392, 0.9984449148178101, 0.6092235445976257, 0.3901168406009674, 0.4751948118209839, 0.49528229236602783, 0.029503507539629936, 0.9977102279663086, 0.9979445338249207, 0.9980902075767517, 0.9976127743721008, 0.9970948100090027, 0.9991782307624817, 0.15876275300979614, 0.8396106958389282, 0.9967643022537231, 0.2632769048213959, 0.4468461275100708, 0.09782307595014572, 0.19202306866645813, 0.9981922507286072, 0.9975448250770569, 0.997567355632782, 0.676887035369873, 0.32248997688293457, 0.401242196559906, 0.5979865789413452, 0.9978693127632141, 0.9987570643424988, 0.31473177671432495, 0.4297299385070801, 0.25420644879341125, 0.36816591024398804, 0.4635806381702423, 0.1570969671010971, 0.011083528399467468, 0.09841789305210114, 0.3076854348182678, 0.23413099348545074, 0.35948431491851807], \"Term\": [\"ahl\", \"answer\", \"apartment\", \"arab\", \"arena\", \"arena\", \"armenia\", \"armenian\", \"article\", \"article\", \"article\", \"article\", \"ask\", \"ask\", \"ask\", \"attack\", \"available\", \"azerbaijani\", \"back\", \"back\", \"back\", \"back\", \"bad\", \"bad\", \"bad\", \"believe\", \"bible\", \"big\", \"bike\", \"book\", \"border\", \"bos\", \"boy\", \"buf\", \"building\", \"buy\", \"call\", \"call\", \"call\", \"canada\", \"canada\", \"car\", \"center\", \"center\", \"center\", \"chi\", \"child\", \"child\", \"christian\", \"church\", \"civilian\", \"claim\", \"claim\", \"clear\", \"clear\", \"coach\", \"contact\", \"cost\", \"country\", \"david_davidian\", \"defenseman\", \"det\", \"detroit\", \"different\", \"discussion\", \"division\", \"division\", \"dod\", \"dog\", \"enough\", \"enough\", \"european\", \"european\", \"example\", \"exist\", \"faith\", \"feel\", \"final\", \"final\", \"find\", \"find\", \"find\", \"first\", \"first\", \"first\", \"first\", \"front\", \"game\", \"genocide\", \"give\", \"give\", \"give\", \"give\", \"goal\", \"goal\", \"god\", \"government\", \"guy\", \"har\", \"hawk\", \"hawk\", \"head\", \"head\", \"head\", \"hell\", \"hell\", \"helmet\", \"hit\", \"hockey\", \"hockey_league\", \"home\", \"home\", \"however\", \"however\", \"ice\", \"ill\", \"info\", \"israel\", \"israeli\", \"jesus\", \"jew\", \"jew\", \"keep\", \"keep\", \"kid\", \"kill\", \"knee\", \"knee\", \"law\", \"league\", \"leave\", \"leave\", \"leave\", \"lebanon\", \"life\", \"life\", \"look\", \"look\", \"luck\", \"man\", \"man\", \"man\", \"march\", \"marriage\", \"matter\", \"mean\", \"mean\", \"member\", \"member\", \"mike\", \"mile\", \"mon\", \"money\", \"motorcycle\", \"move\", \"move\", \"murder\", \"must\", \"mutlu\", \"mutlu\", \"neighbor\", \"new\", \"new\", \"new\", \"nhl\", \"norris\", \"office\", \"organization\", \"organization\", \"organization\", \"organization\", \"owner\", \"page\", \"page\", \"palestinian\", \"paul\", \"penalty\", \"people\", \"people\", \"phi\", \"pit\", \"pittsburgh\", \"play\", \"play\", \"player\", \"playoff\", \"point\", \"point\", \"point\", \"political\", \"post\", \"post\", \"post\", \"pound\", \"prevent\", \"prevent\", \"probably\", \"probably\", \"prove\", \"provide\", \"publish\", \"publish\", \"que\", \"question\", \"question\", \"read\", \"read\", \"really\", \"really\", \"reason\", \"reference\", \"ride\", \"room\", \"russian\", \"sale\", \"school\", \"school\", \"score\", \"seal\", \"season\", \"sell\", \"serdar_argic\", \"sj\", \"soldier\", \"speak\", \"start\", \"start\", \"start\", \"start\", \"state\", \"state\", \"state\", \"steve\", \"stl\", \"sumgait\", \"talk\", \"tb\", \"team\", \"tell\", \"tell\", \"tell\", \"terrorist\", \"thing\", \"thing\", \"time\", \"time\", \"time\", \"tor\", \"true\", \"truth\", \"turk\", \"turkey\", \"turkish\", \"turn\", \"turn\", \"understand\", \"university\", \"university\", \"university\", \"university\", \"view\", \"village\", \"war\", \"way\", \"way\", \"well\", \"well\", \"win\", \"word\", \"work\", \"work\", \"work\", \"write\", \"write\", \"write\", \"write\", \"year\", \"year\", \"year\", \"year\"]}, \"R\": 30, \"lambda.step\": 0.01, \"plot.opts\": {\"xlab\": \"PC1\", \"ylab\": \"PC2\"}, \"topic.order\": [3, 4, 2, 1]};\n",
       "\n",
       "function LDAvis_load_lib(url, callback){\n",
       "  var s = document.createElement('script');\n",
       "  s.src = url;\n",
       "  s.async = true;\n",
       "  s.onreadystatechange = s.onload = callback;\n",
       "  s.onerror = function(){console.warn(\"failed to load library \" + url);};\n",
       "  document.getElementsByTagName(\"head\")[0].appendChild(s);\n",
       "}\n",
       "\n",
       "if(typeof(LDAvis) !== \"undefined\"){\n",
       "   // already loaded: just create the visualization\n",
       "   !function(LDAvis){\n",
       "       new LDAvis(\"#\" + \"ldavis_el50241124226619609888153671\", ldavis_el50241124226619609888153671_data);\n",
       "   }(LDAvis);\n",
       "}else if(typeof define === \"function\" && define.amd){\n",
       "   // require.js is available: use it to load d3/LDAvis\n",
       "   require.config({paths: {d3: \"https://cdnjs.cloudflare.com/ajax/libs/d3/3.5.5/d3.min\"}});\n",
       "   require([\"d3\"], function(d3){\n",
       "      window.d3 = d3;\n",
       "      LDAvis_load_lib(\"https://cdn.rawgit.com/bmabey/pyLDAvis/files/ldavis.v1.0.0.js\", function(){\n",
       "        new LDAvis(\"#\" + \"ldavis_el50241124226619609888153671\", ldavis_el50241124226619609888153671_data);\n",
       "      });\n",
       "    });\n",
       "}else{\n",
       "    // require.js not available: dynamically load d3 & LDAvis\n",
       "    LDAvis_load_lib(\"https://cdnjs.cloudflare.com/ajax/libs/d3/3.5.5/d3.min.js\", function(){\n",
       "         LDAvis_load_lib(\"https://cdn.rawgit.com/bmabey/pyLDAvis/files/ldavis.v1.0.0.js\", function(){\n",
       "                 new LDAvis(\"#\" + \"ldavis_el50241124226619609888153671\", ldavis_el50241124226619609888153671_data);\n",
       "            })\n",
       "         });\n",
       "}\n",
       "</script>"
      ],
      "text/plain": [
       "PreparedData(topic_coordinates=              x         y  topics  cluster       Freq\n",
       "topic                                                \n",
       "2      0.176177 -0.101051       1        1  36.498779\n",
       "3      0.058033 -0.167053       2        1  26.701822\n",
       "1      0.111872  0.262655       3        1  23.408344\n",
       "0     -0.346082  0.005450       4        1  13.391055, topic_info=      Category         Freq        Term        Total  loglift  logprob\n",
       "term                                                                  \n",
       "1479   Default  1493.000000    armenian  1493.000000  30.0000  30.0000\n",
       "521    Default   890.000000        team   890.000000  29.0000  29.0000\n",
       "1180   Default   889.000000        game   889.000000  28.0000  28.0000\n",
       "155    Default   609.000000      hockey   609.000000  27.0000  27.0000\n",
       "706    Default   798.000000      israel   798.000000  26.0000  26.0000\n",
       "1408   Default   502.000000         nhl   502.000000  25.0000  25.0000\n",
       "391    Default   978.000000         god   978.000000  24.0000  24.0000\n",
       "4      Default   738.000000        bike   738.000000  23.0000  23.0000\n",
       "2283   Default   666.000000     israeli   666.000000  22.0000  22.0000\n",
       "2488   Default   461.000000      player   461.000000  21.0000  21.0000\n",
       "230    Default  1777.000000      people  1777.000000  20.0000  20.0000\n",
       "97     Default   436.000000        play   436.000000  19.0000  19.0000\n",
       "524    Default   433.000000         win   433.000000  18.0000  18.0000\n",
       "2907   Default   423.000000        hawk   423.000000  17.0000  17.0000\n",
       "544    Default   404.000000      season   404.000000  16.0000  16.0000\n",
       "965    Default   810.000000   christian   810.000000  15.0000  15.0000\n",
       "379    Default   795.000000     believe   795.000000  14.0000  14.0000\n",
       "87     Default   505.000000        kill   505.000000  13.0000  13.0000\n",
       "242    Default   758.000000       state   758.000000  12.0000  12.0000\n",
       "467    Default   739.000000        look   739.000000  11.0000  11.0000\n",
       "718    Default   656.000000         law   656.000000  10.0000  10.0000\n",
       "324    Default   871.000000         new   871.000000   9.0000   9.0000\n",
       "1064   Default   611.000000        book   611.000000   8.0000   8.0000\n",
       "676    Default   421.000000  government   421.000000   7.0000   7.0000\n",
       "49     Default  1031.000000        well  1031.000000   6.0000   6.0000\n",
       "188    Default  1593.000000        time  1593.000000   5.0000   5.0000\n",
       "1644   Default   391.000000        turk   391.000000   4.0000   4.0000\n",
       "2479   Default   273.000000      league   273.000000   3.0000   3.0000\n",
       "1542   Default   373.000000    genocide   373.000000   2.0000   2.0000\n",
       "417    Default   540.000000        talk   540.000000   1.0000   1.0000\n",
       "...        ...          ...         ...          ...      ...      ...\n",
       "10096   Topic4   160.504654          sj   161.206924   2.0062  -5.5622\n",
       "4917    Topic4   160.204208         det   160.906097   2.0062  -5.5641\n",
       "4962    Topic4   159.467041         pit   160.170059   2.0062  -5.5687\n",
       "4985    Topic4   156.657974         tor   157.360321   2.0061  -5.5865\n",
       "3896    Topic4   156.194489         stl   156.896301   2.0061  -5.5895\n",
       "1275    Topic4   161.417084  pittsburgh   162.148926   2.0061  -5.5566\n",
       "4905    Topic4   152.336945         buf   153.038147   2.0060  -5.6145\n",
       "1376    Topic4   162.491333  defenseman   163.283127   2.0057  -5.5499\n",
       "1903    Topic4   136.437225         chi   137.139465   2.0054  -5.7247\n",
       "3743    Topic4   137.358170     detroit   138.065292   2.0054  -5.7180\n",
       "8462    Topic4   138.087128         har   138.799942   2.0054  -5.7127\n",
       "4303    Topic4   150.245834         ahl   151.023422   2.0054  -5.6283\n",
       "4470    Topic4   188.805298      norris   189.782547   2.0054  -5.3998\n",
       "1394    Topic4   137.686920         ice   138.413132   2.0053  -5.7156\n",
       "8482    Topic4   132.360413         phi   133.064224   2.0053  -5.7550\n",
       "4964    Topic4   130.750778         que   131.453308   2.0052  -5.7673\n",
       "14683   Topic4   126.201591          tb   126.903740   2.0050  -5.8027\n",
       "2907    Topic4   420.062988        hawk   423.289429   2.0029  -4.6002\n",
       "93      Topic4   138.575256         mon   139.360413   2.0049  -5.7091\n",
       "2137    Topic4   144.904236       coach   145.796524   2.0044  -5.6645\n",
       "1193    Topic4   141.888840     penalty   142.741272   2.0046  -5.6855\n",
       "534     Topic4   237.641052        goal   242.847748   1.9889  -5.1698\n",
       "1444    Topic4   264.243042       final   287.718475   1.9255  -5.0637\n",
       "7582    Topic4   139.850372       arena   140.995010   2.0024  -5.7000\n",
       "126     Topic4   347.310364        year   965.271606   0.9884  -4.7903\n",
       "2466    Topic4   154.450821    european   180.008835   1.8575  -5.6007\n",
       "493     Topic4   155.159943      canada   191.080231   1.8023  -5.5961\n",
       "1351    Topic4   153.337448    division   196.153214   1.7643  -5.6079\n",
       "420     Topic4   159.017471  university   828.025513   0.3606  -5.5715\n",
       "170     Topic4   156.729523       point   637.386963   0.6077  -5.5860\n",
       "\n",
       "[231 rows x 6 columns], token_table=      Topic      Freq         Term\n",
       "term                              \n",
       "4303      4  0.993223          ahl\n",
       "258       1  0.999519       answer\n",
       "3147      2  0.997135    apartment\n",
       "193       3  0.999571         arab\n",
       "7582      3  0.007092        arena\n",
       "7582      4  0.992943        arena\n",
       "3217      3  0.994461      armenia\n",
       "1479      3  0.999452     armenian\n",
       "548       1  0.255280      article\n",
       "548       2  0.490291      article\n",
       "548       3  0.245420      article\n",
       "548       4  0.009313      article\n",
       "262       1  0.791732          ask\n",
       "262       2  0.150234          ask\n",
       "262       3  0.058591          ask\n",
       "1482      3  0.996627       attack\n",
       "4154      2  0.996959    available\n",
       "5503      3  0.997343  azerbaijani\n",
       "550       1  0.094615         back\n",
       "550       2  0.700154         back\n",
       "550       3  0.172673         back\n",
       "550       4  0.035481         back\n",
       "428       2  0.825237          bad\n",
       "428       3  0.087122          bad\n",
       "428       4  0.087122          bad\n",
       "379       1  0.998883      believe\n",
       "1062      1  0.999488        bible\n",
       "1106      2  0.998052          big\n",
       "4         2  0.999309         bike\n",
       "1064      1  0.999044         book\n",
       "...     ...       ...          ...\n",
       "1644      3  0.997613         turk\n",
       "2614      3  0.997095       turkey\n",
       "1645      3  0.999178      turkish\n",
       "812       1  0.158763         turn\n",
       "812       2  0.839611         turn\n",
       "374       1  0.996764   understand\n",
       "420       1  0.263277   university\n",
       "420       2  0.446846   university\n",
       "420       3  0.097823   university\n",
       "420       4  0.192023   university\n",
       "1055      1  0.998192         view\n",
       "1650      3  0.997545      village\n",
       "123       3  0.997567          war\n",
       "423       1  0.676887          way\n",
       "423       2  0.322490          way\n",
       "49        1  0.401242         well\n",
       "49        2  0.597987         well\n",
       "524       4  0.997869          win\n",
       "1438      1  0.998757         word\n",
       "124       1  0.314732         work\n",
       "124       2  0.429730         work\n",
       "124       3  0.254206         work\n",
       "125       1  0.368166        write\n",
       "125       2  0.463581        write\n",
       "125       3  0.157097        write\n",
       "125       4  0.011084        write\n",
       "126       1  0.098418         year\n",
       "126       2  0.307685         year\n",
       "126       3  0.234131         year\n",
       "126       4  0.359484         year\n",
       "\n",
       "[280 rows x 3 columns], R=30, lambda_step=0.01, plot_opts={'xlab': 'PC1', 'ylab': 'PC2'}, topic_order=[3, 4, 2, 1])"
      ]
     },
     "execution_count": 33,
     "metadata": {},
     "output_type": "execute_result"
    }
   ],
   "source": [
    "import pyLDAvis.gensim\n",
    "pyLDAvis.enable_notebook()\n",
    "vis = pyLDAvis.gensim.prepare(lda_model, corpus, dictionary=lda_model.id2word)\n",
    "vis"
   ]
  },
  {
   "cell_type": "code",
   "execution_count": null,
   "metadata": {
    "collapsed": true
   },
   "outputs": [],
   "source": []
  }
 ],
 "metadata": {
  "kernelspec": {
   "display_name": "Python 3",
   "language": "python",
   "name": "python3"
  },
  "language_info": {
   "codemirror_mode": {
    "name": "ipython",
    "version": 3
   },
   "file_extension": ".py",
   "mimetype": "text/x-python",
   "name": "python",
   "nbconvert_exporter": "python",
   "pygments_lexer": "ipython3",
   "version": "3.6.2"
  }
 },
 "nbformat": 4,
 "nbformat_minor": 2
}
