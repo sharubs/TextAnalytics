{
 "cells": [
  {
   "cell_type": "code",
   "execution_count": 26,
   "metadata": {
    "collapsed": true
   },
   "outputs": [],
   "source": [
    "import tweepy\n",
    "from tweepy import OAuthHandler\n",
    "from tweepy import Stream\n",
    "from tweepy.streaming import StreamListener"
   ]
  },
  {
   "cell_type": "code",
   "execution_count": 27,
   "metadata": {
    "collapsed": true
   },
   "outputs": [],
   "source": [
    "consumer_key = '<Enter your details>'\n",
    "consumer_secret = '<Enter your details>'\n",
    "access_token = '<Enter your details>'\n",
    "access_secret = '<Enter your details>'"
   ]
  },
  {
   "cell_type": "code",
   "execution_count": 28,
   "metadata": {
    "collapsed": true
   },
   "outputs": [],
   "source": [
    "auth = OAuthHandler(consumer_key, consumer_secret)\n",
    "auth.set_access_token(access_token, access_secret)"
   ]
  },
  {
   "cell_type": "code",
   "execution_count": 29,
   "metadata": {
    "collapsed": true
   },
   "outputs": [],
   "source": [
    "class TweetsListener( StreamListener ):\n",
    "\n",
    "  def on_data(self, data):\n",
    "      try:\n",
    "          with open('mytweets.json', 'a', newline='') as f:\n",
    "              f.write(data)\n",
    "              return True\n",
    "          num_tweets = num_tweets + 1\n",
    "      except BaseException as e:\n",
    "          print(\"Error on_data: %s\" % str(e))\n",
    "      return True\n",
    "\n",
    "  def on_error(self, status):\n",
    "      print(status)\n",
    "      return True"
   ]
  },
  {
   "cell_type": "code",
   "execution_count": 30,
   "metadata": {},
   "outputs": [
    {
     "name": "stdout",
     "output_type": "stream",
     "text": [
      "Streaming Stopped\n"
     ]
    }
   ],
   "source": [
    "import os\n",
    "\n",
    "#Delete any existing file. If you do not want to delete the earlier file. Then you can commend the line below\n",
    "os.remove( 'mytweets.json' )\n",
    "try:\n",
    "  twitter_stream = Stream( auth, TweetsListener() )\n",
    "  twitter_stream.filter( track=['lion king'] )\n",
    "except BaseException as e:\n",
    "  print( \"Streaming Stopped\")"
   ]
  },
  {
   "cell_type": "code",
   "execution_count": 31,
   "metadata": {
    "collapsed": true
   },
   "outputs": [],
   "source": [
    "# read the entire file into a python array\n",
    "with open('mytweets.json', 'r') as f:\n",
    "  data = f.readlines()\n",
    "\n",
    "# remove the trailing \"\\n\" from each line\n",
    "data = map(lambda x: x.rstrip(), data)"
   ]
  },
  {
   "cell_type": "code",
   "execution_count": 32,
   "metadata": {
    "collapsed": true
   },
   "outputs": [],
   "source": [
    "# Load all json messages as one python list\n",
    "data_json_str = \"[\" + ','.join(data) + \"]\""
   ]
  },
  {
   "cell_type": "code",
   "execution_count": 33,
   "metadata": {
    "collapsed": true
   },
   "outputs": [],
   "source": [
    "# Now the list of json message can be converted into dataframe. Python support loading \n",
    "# json messages as dataframe\n",
    "import pandas as pd\n",
    "tweets_df = pd.read_json(data_json_str)"
   ]
  },
  {
   "cell_type": "code",
   "execution_count": 34,
   "metadata": {},
   "outputs": [
    {
     "data": {
      "text/html": [
       "<div>\n",
       "<style scoped>\n",
       "    .dataframe tbody tr th:only-of-type {\n",
       "        vertical-align: middle;\n",
       "    }\n",
       "\n",
       "    .dataframe tbody tr th {\n",
       "        vertical-align: top;\n",
       "    }\n",
       "\n",
       "    .dataframe thead th {\n",
       "        text-align: right;\n",
       "    }\n",
       "</style>\n",
       "<table border=\"1\" class=\"dataframe\">\n",
       "  <thead>\n",
       "    <tr style=\"text-align: right;\">\n",
       "      <th></th>\n",
       "      <th>contributors</th>\n",
       "      <th>coordinates</th>\n",
       "      <th>created_at</th>\n",
       "      <th>display_text_range</th>\n",
       "      <th>entities</th>\n",
       "      <th>extended_entities</th>\n",
       "      <th>extended_tweet</th>\n",
       "      <th>favorite_count</th>\n",
       "      <th>favorited</th>\n",
       "      <th>filter_level</th>\n",
       "      <th>...</th>\n",
       "      <th>quote_count</th>\n",
       "      <th>reply_count</th>\n",
       "      <th>retweet_count</th>\n",
       "      <th>retweeted</th>\n",
       "      <th>retweeted_status</th>\n",
       "      <th>source</th>\n",
       "      <th>text</th>\n",
       "      <th>timestamp_ms</th>\n",
       "      <th>truncated</th>\n",
       "      <th>user</th>\n",
       "    </tr>\n",
       "  </thead>\n",
       "  <tbody>\n",
       "    <tr>\n",
       "      <th>0</th>\n",
       "      <td>NaN</td>\n",
       "      <td>NaN</td>\n",
       "      <td>2019-08-11 10:55:29</td>\n",
       "      <td>NaN</td>\n",
       "      <td>{'hashtags': [], 'urls': [], 'user_mentions': [], 'symbols': []}</td>\n",
       "      <td>NaN</td>\n",
       "      <td>NaN</td>\n",
       "      <td>0</td>\n",
       "      <td>False</td>\n",
       "      <td>low</td>\n",
       "      <td>...</td>\n",
       "      <td>0</td>\n",
       "      <td>0</td>\n",
       "      <td>0</td>\n",
       "      <td>False</td>\n",
       "      <td>NaN</td>\n",
       "      <td>&lt;a href=\"https://mobile.twitter.com\" rel=\"nofollow\"&gt;Twitter Web App&lt;/a&gt;</td>\n",
       "      <td>Just heard Seth Rogen on Can You Feel The Love Tonight from The Lion King soundtrack and my man sounds like Kermit. I love him but lawl.</td>\n",
       "      <td>2019-08-11 10:55:29.306</td>\n",
       "      <td>False</td>\n",
       "      <td>{'id': 919641711399395328, 'id_str': '919641711399395328', 'name': 'Avi', 'screen_name': 'aviceration', 'location': 'she / her', 'url': 'https://www.twitch.tv/aviceration', 'description': 'Dorky variety streamer // http://www.twitch.tv/aviceration // mental health awareness // crafter // dinosaur lover // @TwitchKittens', 'translator_type': 'none', 'protected': False, 'verified': False, 'followers_count': 221, 'friends_count': 254, 'listed_count': 2, 'favourites_count': 10409, 'statuses_count': 3480, 'created_at': 'Sun Oct 15 19:10:44 +0000 2017', 'utc_offset': None, 'time_zone': None, 'geo_enabled': False, 'lang': None, 'contributors_enabled': False, 'is_translator': False, 'profile_background_color': '000000', 'profile_background_image_url': 'http://abs.twimg.com/images/themes/theme1...</td>\n",
       "    </tr>\n",
       "    <tr>\n",
       "      <th>1</th>\n",
       "      <td>NaN</td>\n",
       "      <td>NaN</td>\n",
       "      <td>2019-08-11 10:55:39</td>\n",
       "      <td>[12, 120]</td>\n",
       "      <td>{'hashtags': [], 'urls': [], 'user_mentions': [{'screen_name': 'Saber_Says', 'name': 'Saber Says', 'id': 909664162946666496, 'id_str': '909664162946666496', 'indices': [0, 11]}], 'symbols': []}</td>\n",
       "      <td>NaN</td>\n",
       "      <td>NaN</td>\n",
       "      <td>0</td>\n",
       "      <td>False</td>\n",
       "      <td>low</td>\n",
       "      <td>...</td>\n",
       "      <td>0</td>\n",
       "      <td>0</td>\n",
       "      <td>0</td>\n",
       "      <td>False</td>\n",
       "      <td>NaN</td>\n",
       "      <td>&lt;a href=\"https://mobile.twitter.com\" rel=\"nofollow\"&gt;Twitter Web App&lt;/a&gt;</td>\n",
       "      <td>@Saber_Says There is a The Lion King arc in Kingdom Hearths, tell him about it this can't stand like this for any longer</td>\n",
       "      <td>2019-08-11 10:55:39.252</td>\n",
       "      <td>False</td>\n",
       "      <td>{'id': 1018573278577938437, 'id_str': '1018573278577938437', 'name': 'Pumba, the King Maker', 'screen_name': 'avocadokid28', 'location': 'Valencia, Spain', 'url': None, 'description': 'Pumba from The Lion King. I play videogames 16 hours a day.', 'translator_type': 'none', 'protected': False, 'verified': False, 'followers_count': 20, 'friends_count': 20, 'listed_count': 0, 'favourites_count': 766, 'statuses_count': 336, 'created_at': 'Sun Jul 15 19:09:28 +0000 2018', 'utc_offset': None, 'time_zone': None, 'geo_enabled': False, 'lang': None, 'contributors_enabled': False, 'is_translator': False, 'profile_background_color': 'F5F8FA', 'profile_background_image_url': '', 'profile_background_image_url_https': '', 'profile_background_tile': False, 'profile_link_color': '1DA1F2', 'profile_sid...</td>\n",
       "    </tr>\n",
       "  </tbody>\n",
       "</table>\n",
       "<p>2 rows × 32 columns</p>\n",
       "</div>"
      ],
      "text/plain": [
       "   contributors  coordinates          created_at display_text_range  \\\n",
       "0           NaN          NaN 2019-08-11 10:55:29                NaN   \n",
       "1           NaN          NaN 2019-08-11 10:55:39          [12, 120]   \n",
       "\n",
       "                                                                                                                                                                                            entities  \\\n",
       "0                                                                                                                                   {'hashtags': [], 'urls': [], 'user_mentions': [], 'symbols': []}   \n",
       "1  {'hashtags': [], 'urls': [], 'user_mentions': [{'screen_name': 'Saber_Says', 'name': 'Saber Says', 'id': 909664162946666496, 'id_str': '909664162946666496', 'indices': [0, 11]}], 'symbols': []}   \n",
       "\n",
       "  extended_entities extended_tweet  favorite_count  favorited filter_level  \\\n",
       "0               NaN            NaN               0      False          low   \n",
       "1               NaN            NaN               0      False          low   \n",
       "\n",
       "                                                                                                                                                                                                                                                                                                                                                                                                                ...                                                                                                                                                                                                                                                                                                                                                                                                                 \\\n",
       "0                                                                                                                                                                                                                                                                                                                                                                                                               ...                                                                                                                                                                                                                                                                                                                                                                                                                  \n",
       "1                                                                                                                                                                                                                                                                                                                                                                                                               ...                                                                                                                                                                                                                                                                                                                                                                                                                  \n",
       "\n",
       "   quote_count  reply_count  retweet_count retweeted  retweeted_status  \\\n",
       "0            0            0              0     False               NaN   \n",
       "1            0            0              0     False               NaN   \n",
       "\n",
       "                                                                    source  \\\n",
       "0  <a href=\"https://mobile.twitter.com\" rel=\"nofollow\">Twitter Web App</a>   \n",
       "1  <a href=\"https://mobile.twitter.com\" rel=\"nofollow\">Twitter Web App</a>   \n",
       "\n",
       "                                                                                                                                       text  \\\n",
       "0  Just heard Seth Rogen on Can You Feel The Love Tonight from The Lion King soundtrack and my man sounds like Kermit. I love him but lawl.   \n",
       "1                  @Saber_Says There is a The Lion King arc in Kingdom Hearths, tell him about it this can't stand like this for any longer   \n",
       "\n",
       "             timestamp_ms  truncated  \\\n",
       "0 2019-08-11 10:55:29.306      False   \n",
       "1 2019-08-11 10:55:39.252      False   \n",
       "\n",
       "                                                                                                                                                                                                                                                                                                                                                                                                                                                                                                                                                                                                                                                                                                                                                                                                                              user  \n",
       "0  {'id': 919641711399395328, 'id_str': '919641711399395328', 'name': 'Avi', 'screen_name': 'aviceration', 'location': 'she / her', 'url': 'https://www.twitch.tv/aviceration', 'description': 'Dorky variety streamer // http://www.twitch.tv/aviceration // mental health awareness // crafter // dinosaur lover // @TwitchKittens', 'translator_type': 'none', 'protected': False, 'verified': False, 'followers_count': 221, 'friends_count': 254, 'listed_count': 2, 'favourites_count': 10409, 'statuses_count': 3480, 'created_at': 'Sun Oct 15 19:10:44 +0000 2017', 'utc_offset': None, 'time_zone': None, 'geo_enabled': False, 'lang': None, 'contributors_enabled': False, 'is_translator': False, 'profile_background_color': '000000', 'profile_background_image_url': 'http://abs.twimg.com/images/themes/theme1...  \n",
       "1  {'id': 1018573278577938437, 'id_str': '1018573278577938437', 'name': 'Pumba, the King Maker', 'screen_name': 'avocadokid28', 'location': 'Valencia, Spain', 'url': None, 'description': 'Pumba from The Lion King. I play videogames 16 hours a day.', 'translator_type': 'none', 'protected': False, 'verified': False, 'followers_count': 20, 'friends_count': 20, 'listed_count': 0, 'favourites_count': 766, 'statuses_count': 336, 'created_at': 'Sun Jul 15 19:09:28 +0000 2018', 'utc_offset': None, 'time_zone': None, 'geo_enabled': False, 'lang': None, 'contributors_enabled': False, 'is_translator': False, 'profile_background_color': 'F5F8FA', 'profile_background_image_url': '', 'profile_background_image_url_https': '', 'profile_background_tile': False, 'profile_link_color': '1DA1F2', 'profile_sid...  \n",
       "\n",
       "[2 rows x 32 columns]"
      ]
     },
     "execution_count": 34,
     "metadata": {},
     "output_type": "execute_result"
    }
   ],
   "source": [
    "tweets_df[0:2]"
   ]
  },
  {
   "cell_type": "code",
   "execution_count": 35,
   "metadata": {
    "collapsed": true
   },
   "outputs": [],
   "source": [
    "tweets_df_text = tweets_df[['text']]"
   ]
  },
  {
   "cell_type": "code",
   "execution_count": 36,
   "metadata": {},
   "outputs": [
    {
     "data": {
      "text/html": [
       "<div>\n",
       "<style scoped>\n",
       "    .dataframe tbody tr th:only-of-type {\n",
       "        vertical-align: middle;\n",
       "    }\n",
       "\n",
       "    .dataframe tbody tr th {\n",
       "        vertical-align: top;\n",
       "    }\n",
       "\n",
       "    .dataframe thead th {\n",
       "        text-align: right;\n",
       "    }\n",
       "</style>\n",
       "<table border=\"1\" class=\"dataframe\">\n",
       "  <thead>\n",
       "    <tr style=\"text-align: right;\">\n",
       "      <th></th>\n",
       "      <th>text</th>\n",
       "    </tr>\n",
       "  </thead>\n",
       "  <tbody>\n",
       "    <tr>\n",
       "      <th>0</th>\n",
       "      <td>Just heard Seth Rogen on Can You Feel The Love Tonight from The Lion King soundtrack and my man sounds like Kermit. I love him but lawl.</td>\n",
       "    </tr>\n",
       "    <tr>\n",
       "      <th>1</th>\n",
       "      <td>@Saber_Says There is a The Lion King arc in Kingdom Hearths, tell him about it this can't stand like this for any longer</td>\n",
       "    </tr>\n",
       "    <tr>\n",
       "      <th>2</th>\n",
       "      <td>\"So let me ask you again, who are you?\"\\n\\n-The Lion King-</td>\n",
       "    </tr>\n",
       "    <tr>\n",
       "      <th>3</th>\n",
       "      <td>RT @dlrpfans: Giveaway - Win a Lion King and Jungle Festival T-shirt  https://t.co/c5oBHNo3Vc</td>\n",
       "    </tr>\n",
       "    <tr>\n",
       "      <th>4</th>\n",
       "      <td>@BeeMel0 7. John Kani - Director &amp;amp; Playwright. Do the movie titles Black Panther or The Lion King sound familiar, babes? 🤔</td>\n",
       "    </tr>\n",
       "    <tr>\n",
       "      <th>5</th>\n",
       "      <td>RT @Tutejajoginder: Box Office – #FastandFuriousHobbsandShaw has audiences coming\\n\\n#TheLionKing is a blockbuster\\n\\nhttps://t.co/MHquEXP59j</td>\n",
       "    </tr>\n",
       "    <tr>\n",
       "      <th>6</th>\n",
       "      <td>RT @talhamalxk: Lion King https://t.co/TNiMZ4FcTH</td>\n",
       "    </tr>\n",
       "    <tr>\n",
       "      <th>7</th>\n",
       "      <td>He loves watching cartoons with me, this time we were watching The lion king cartoon, while he encouraged me to col… https://t.co/K69j3x2Sjw</td>\n",
       "    </tr>\n",
       "    <tr>\n",
       "      <th>8</th>\n",
       "      <td>RT @ShaniBudi: The Lion King Opening Miss lyrics. https://t.co/1C9F7JUSy4</td>\n",
       "    </tr>\n",
       "    <tr>\n",
       "      <th>9</th>\n",
       "      <td>RT @SomeomeB: Esplêndido, possui um estilo autêntico é MUITO LINDO, e também tem os melhores ensaios fotográficos. \\nAmbos participaram do m…</td>\n",
       "    </tr>\n",
       "  </tbody>\n",
       "</table>\n",
       "</div>"
      ],
      "text/plain": [
       "                                                                                                                                            text\n",
       "0       Just heard Seth Rogen on Can You Feel The Love Tonight from The Lion King soundtrack and my man sounds like Kermit. I love him but lawl.\n",
       "1                       @Saber_Says There is a The Lion King arc in Kingdom Hearths, tell him about it this can't stand like this for any longer\n",
       "2                                                                                     \"So let me ask you again, who are you?\"\\n\\n-The Lion King-\n",
       "3                                                  RT @dlrpfans: Giveaway - Win a Lion King and Jungle Festival T-shirt  https://t.co/c5oBHNo3Vc\n",
       "4                 @BeeMel0 7. John Kani - Director &amp; Playwright. Do the movie titles Black Panther or The Lion King sound familiar, babes? 🤔\n",
       "5  RT @Tutejajoginder: Box Office – #FastandFuriousHobbsandShaw has audiences coming\\n\\n#TheLionKing is a blockbuster\\n\\nhttps://t.co/MHquEXP59j\n",
       "6                                                                                              RT @talhamalxk: Lion King https://t.co/TNiMZ4FcTH\n",
       "7   He loves watching cartoons with me, this time we were watching The lion king cartoon, while he encouraged me to col… https://t.co/K69j3x2Sjw\n",
       "8                                                                      RT @ShaniBudi: The Lion King Opening Miss lyrics. https://t.co/1C9F7JUSy4\n",
       "9  RT @SomeomeB: Esplêndido, possui um estilo autêntico é MUITO LINDO, e também tem os melhores ensaios fotográficos. \\nAmbos participaram do m…"
      ]
     },
     "execution_count": 36,
     "metadata": {},
     "output_type": "execute_result"
    }
   ],
   "source": [
    "pd.set_option('max_colwidth', 800)\n",
    "tweets_df_text"
   ]
  },
  {
   "cell_type": "code",
   "execution_count": null,
   "metadata": {
    "collapsed": true
   },
   "outputs": [],
   "source": []
  }
 ],
 "metadata": {
  "kernelspec": {
   "display_name": "Python 3",
   "language": "python",
   "name": "python3"
  },
  "language_info": {
   "codemirror_mode": {
    "name": "ipython",
    "version": 3
   },
   "file_extension": ".py",
   "mimetype": "text/x-python",
   "name": "python",
   "nbconvert_exporter": "python",
   "pygments_lexer": "ipython3",
   "version": "3.6.2"
  }
 },
 "nbformat": 4,
 "nbformat_minor": 2
}
